{
 "cells": [
  {
   "cell_type": "markdown",
   "metadata": {},
   "source": [
    "# Using pre-defined networks in pandapower\n",
    "\n",
    "Besides creating your own grids using pandapower functions, pandapower provides synthetic and benchmark grids through the networks module.\n",
    "\n",
    "The pandapower networks module contains example grids, simple test grids, randomly generated grids, CIGRE test grids, IEEE case files and synthetic low voltage grids."
   ]
  },
  {
   "cell_type": "code",
   "execution_count": 922,
   "metadata": {},
   "outputs": [],
   "source": [
    "import pandapower as pp\n",
    "import pandapower.networks as nw\n",
    "import pandas as pd\n",
    "\n",
    "#Import an example network (IEEE 9 buses)\n",
    "net = nw.case9()"
   ]
  },
  {
   "cell_type": "markdown",
   "metadata": {},
   "source": [
    "# Inspecting information about a network\n",
    "## Direct inspection\n",
    "\n",
    "We'll first inspect, general information about the network and the specific information about buses and lines"
   ]
  },
  {
   "cell_type": "code",
   "execution_count": 923,
   "metadata": {},
   "outputs": [
    {
     "data": {
      "text/plain": [
       "This pandapower network includes the following parameter tables:\n",
       "   - bus (9 elements)\n",
       "   - load (3 elements)\n",
       "   - gen (2 elements)\n",
       "   - ext_grid (1 element)\n",
       "   - line (9 elements)\n",
       "   - poly_cost (3 elements)\n",
       "   - bus_geodata (9 elements)"
      ]
     },
     "execution_count": 923,
     "metadata": {},
     "output_type": "execute_result"
    }
   ],
   "source": [
    "net"
   ]
  },
  {
   "cell_type": "code",
   "execution_count": 924,
   "metadata": {},
   "outputs": [
    {
     "data": {
      "text/html": [
       "<div>\n",
       "<style scoped>\n",
       "    .dataframe tbody tr th:only-of-type {\n",
       "        vertical-align: middle;\n",
       "    }\n",
       "\n",
       "    .dataframe tbody tr th {\n",
       "        vertical-align: top;\n",
       "    }\n",
       "\n",
       "    .dataframe thead th {\n",
       "        text-align: right;\n",
       "    }\n",
       "</style>\n",
       "<table border=\"1\" class=\"dataframe\">\n",
       "  <thead>\n",
       "    <tr style=\"text-align: right;\">\n",
       "      <th></th>\n",
       "      <th>in_service</th>\n",
       "      <th>max_vm_pu</th>\n",
       "      <th>min_vm_pu</th>\n",
       "      <th>name</th>\n",
       "      <th>type</th>\n",
       "      <th>vn_kv</th>\n",
       "      <th>zone</th>\n",
       "    </tr>\n",
       "  </thead>\n",
       "  <tbody>\n",
       "    <tr>\n",
       "      <th>0</th>\n",
       "      <td>True</td>\n",
       "      <td>1.1</td>\n",
       "      <td>0.9</td>\n",
       "      <td>1</td>\n",
       "      <td>b</td>\n",
       "      <td>345.0</td>\n",
       "      <td>1</td>\n",
       "    </tr>\n",
       "    <tr>\n",
       "      <th>1</th>\n",
       "      <td>True</td>\n",
       "      <td>1.1</td>\n",
       "      <td>0.9</td>\n",
       "      <td>2</td>\n",
       "      <td>b</td>\n",
       "      <td>345.0</td>\n",
       "      <td>1</td>\n",
       "    </tr>\n",
       "    <tr>\n",
       "      <th>2</th>\n",
       "      <td>True</td>\n",
       "      <td>1.1</td>\n",
       "      <td>0.9</td>\n",
       "      <td>3</td>\n",
       "      <td>b</td>\n",
       "      <td>345.0</td>\n",
       "      <td>1</td>\n",
       "    </tr>\n",
       "    <tr>\n",
       "      <th>3</th>\n",
       "      <td>True</td>\n",
       "      <td>1.1</td>\n",
       "      <td>0.9</td>\n",
       "      <td>4</td>\n",
       "      <td>b</td>\n",
       "      <td>345.0</td>\n",
       "      <td>1</td>\n",
       "    </tr>\n",
       "    <tr>\n",
       "      <th>4</th>\n",
       "      <td>True</td>\n",
       "      <td>1.1</td>\n",
       "      <td>0.9</td>\n",
       "      <td>5</td>\n",
       "      <td>b</td>\n",
       "      <td>345.0</td>\n",
       "      <td>1</td>\n",
       "    </tr>\n",
       "    <tr>\n",
       "      <th>5</th>\n",
       "      <td>True</td>\n",
       "      <td>1.1</td>\n",
       "      <td>0.9</td>\n",
       "      <td>6</td>\n",
       "      <td>b</td>\n",
       "      <td>345.0</td>\n",
       "      <td>1</td>\n",
       "    </tr>\n",
       "    <tr>\n",
       "      <th>6</th>\n",
       "      <td>True</td>\n",
       "      <td>1.1</td>\n",
       "      <td>0.9</td>\n",
       "      <td>7</td>\n",
       "      <td>b</td>\n",
       "      <td>345.0</td>\n",
       "      <td>1</td>\n",
       "    </tr>\n",
       "    <tr>\n",
       "      <th>7</th>\n",
       "      <td>True</td>\n",
       "      <td>1.1</td>\n",
       "      <td>0.9</td>\n",
       "      <td>8</td>\n",
       "      <td>b</td>\n",
       "      <td>345.0</td>\n",
       "      <td>1</td>\n",
       "    </tr>\n",
       "    <tr>\n",
       "      <th>8</th>\n",
       "      <td>True</td>\n",
       "      <td>1.1</td>\n",
       "      <td>0.9</td>\n",
       "      <td>9</td>\n",
       "      <td>b</td>\n",
       "      <td>345.0</td>\n",
       "      <td>1</td>\n",
       "    </tr>\n",
       "  </tbody>\n",
       "</table>\n",
       "</div>"
      ],
      "text/plain": [
       "   in_service  max_vm_pu  min_vm_pu name type  vn_kv zone\n",
       "0        True        1.1        0.9    1    b  345.0    1\n",
       "1        True        1.1        0.9    2    b  345.0    1\n",
       "2        True        1.1        0.9    3    b  345.0    1\n",
       "3        True        1.1        0.9    4    b  345.0    1\n",
       "4        True        1.1        0.9    5    b  345.0    1\n",
       "5        True        1.1        0.9    6    b  345.0    1\n",
       "6        True        1.1        0.9    7    b  345.0    1\n",
       "7        True        1.1        0.9    8    b  345.0    1\n",
       "8        True        1.1        0.9    9    b  345.0    1"
      ]
     },
     "execution_count": 924,
     "metadata": {},
     "output_type": "execute_result"
    }
   ],
   "source": [
    "net.bus # show bus table"
   ]
  },
  {
   "cell_type": "code",
   "execution_count": 925,
   "metadata": {},
   "outputs": [
    {
     "data": {
      "text/html": [
       "<div>\n",
       "<style scoped>\n",
       "    .dataframe tbody tr th:only-of-type {\n",
       "        vertical-align: middle;\n",
       "    }\n",
       "\n",
       "    .dataframe tbody tr th {\n",
       "        vertical-align: top;\n",
       "    }\n",
       "\n",
       "    .dataframe thead th {\n",
       "        text-align: right;\n",
       "    }\n",
       "</style>\n",
       "<table border=\"1\" class=\"dataframe\">\n",
       "  <thead>\n",
       "    <tr style=\"text-align: right;\">\n",
       "      <th></th>\n",
       "      <th>c_nf_per_km</th>\n",
       "      <th>df</th>\n",
       "      <th>from_bus</th>\n",
       "      <th>g_us_per_km</th>\n",
       "      <th>in_service</th>\n",
       "      <th>length_km</th>\n",
       "      <th>max_i_ka</th>\n",
       "      <th>max_loading_percent</th>\n",
       "      <th>name</th>\n",
       "      <th>parallel</th>\n",
       "      <th>r_ohm_per_km</th>\n",
       "      <th>std_type</th>\n",
       "      <th>to_bus</th>\n",
       "      <th>type</th>\n",
       "      <th>x_ohm_per_km</th>\n",
       "    </tr>\n",
       "  </thead>\n",
       "  <tbody>\n",
       "    <tr>\n",
       "      <th>0</th>\n",
       "      <td>0.000000</td>\n",
       "      <td>1.0</td>\n",
       "      <td>0</td>\n",
       "      <td>0.0</td>\n",
       "      <td>True</td>\n",
       "      <td>1.0</td>\n",
       "      <td>0.418370</td>\n",
       "      <td>100.0</td>\n",
       "      <td>None</td>\n",
       "      <td>1</td>\n",
       "      <td>0.000000</td>\n",
       "      <td>None</td>\n",
       "      <td>3</td>\n",
       "      <td>ol</td>\n",
       "      <td>68.558400</td>\n",
       "    </tr>\n",
       "    <tr>\n",
       "      <th>1</th>\n",
       "      <td>352.117636</td>\n",
       "      <td>1.0</td>\n",
       "      <td>3</td>\n",
       "      <td>0.0</td>\n",
       "      <td>True</td>\n",
       "      <td>1.0</td>\n",
       "      <td>0.418370</td>\n",
       "      <td>100.0</td>\n",
       "      <td>None</td>\n",
       "      <td>1</td>\n",
       "      <td>20.234250</td>\n",
       "      <td>None</td>\n",
       "      <td>4</td>\n",
       "      <td>ol</td>\n",
       "      <td>109.503000</td>\n",
       "    </tr>\n",
       "    <tr>\n",
       "      <th>2</th>\n",
       "      <td>797.836164</td>\n",
       "      <td>1.0</td>\n",
       "      <td>4</td>\n",
       "      <td>0.0</td>\n",
       "      <td>True</td>\n",
       "      <td>1.0</td>\n",
       "      <td>0.251022</td>\n",
       "      <td>100.0</td>\n",
       "      <td>None</td>\n",
       "      <td>1</td>\n",
       "      <td>46.419750</td>\n",
       "      <td>None</td>\n",
       "      <td>5</td>\n",
       "      <td>ol</td>\n",
       "      <td>202.342500</td>\n",
       "    </tr>\n",
       "    <tr>\n",
       "      <th>3</th>\n",
       "      <td>0.000000</td>\n",
       "      <td>1.0</td>\n",
       "      <td>2</td>\n",
       "      <td>0.0</td>\n",
       "      <td>True</td>\n",
       "      <td>1.0</td>\n",
       "      <td>0.502044</td>\n",
       "      <td>100.0</td>\n",
       "      <td>None</td>\n",
       "      <td>1</td>\n",
       "      <td>0.000000</td>\n",
       "      <td>None</td>\n",
       "      <td>5</td>\n",
       "      <td>ol</td>\n",
       "      <td>69.748650</td>\n",
       "    </tr>\n",
       "    <tr>\n",
       "      <th>4</th>\n",
       "      <td>465.775861</td>\n",
       "      <td>1.0</td>\n",
       "      <td>5</td>\n",
       "      <td>0.0</td>\n",
       "      <td>True</td>\n",
       "      <td>1.0</td>\n",
       "      <td>0.251022</td>\n",
       "      <td>100.0</td>\n",
       "      <td>None</td>\n",
       "      <td>1</td>\n",
       "      <td>14.163975</td>\n",
       "      <td>None</td>\n",
       "      <td>6</td>\n",
       "      <td>ol</td>\n",
       "      <td>119.977200</td>\n",
       "    </tr>\n",
       "    <tr>\n",
       "      <th>5</th>\n",
       "      <td>332.060303</td>\n",
       "      <td>1.0</td>\n",
       "      <td>6</td>\n",
       "      <td>0.0</td>\n",
       "      <td>True</td>\n",
       "      <td>1.0</td>\n",
       "      <td>0.418370</td>\n",
       "      <td>100.0</td>\n",
       "      <td>None</td>\n",
       "      <td>1</td>\n",
       "      <td>10.117125</td>\n",
       "      <td>None</td>\n",
       "      <td>7</td>\n",
       "      <td>ol</td>\n",
       "      <td>85.698000</td>\n",
       "    </tr>\n",
       "    <tr>\n",
       "      <th>6</th>\n",
       "      <td>0.000000</td>\n",
       "      <td>1.0</td>\n",
       "      <td>7</td>\n",
       "      <td>0.0</td>\n",
       "      <td>True</td>\n",
       "      <td>1.0</td>\n",
       "      <td>0.418370</td>\n",
       "      <td>100.0</td>\n",
       "      <td>None</td>\n",
       "      <td>1</td>\n",
       "      <td>0.000000</td>\n",
       "      <td>None</td>\n",
       "      <td>1</td>\n",
       "      <td>ol</td>\n",
       "      <td>74.390625</td>\n",
       "    </tr>\n",
       "    <tr>\n",
       "      <th>7</th>\n",
       "      <td>681.949347</td>\n",
       "      <td>1.0</td>\n",
       "      <td>7</td>\n",
       "      <td>0.0</td>\n",
       "      <td>True</td>\n",
       "      <td>1.0</td>\n",
       "      <td>0.418370</td>\n",
       "      <td>100.0</td>\n",
       "      <td>None</td>\n",
       "      <td>1</td>\n",
       "      <td>38.088000</td>\n",
       "      <td>None</td>\n",
       "      <td>8</td>\n",
       "      <td>ol</td>\n",
       "      <td>191.630250</td>\n",
       "    </tr>\n",
       "    <tr>\n",
       "      <th>8</th>\n",
       "      <td>392.232304</td>\n",
       "      <td>1.0</td>\n",
       "      <td>8</td>\n",
       "      <td>0.0</td>\n",
       "      <td>True</td>\n",
       "      <td>1.0</td>\n",
       "      <td>0.418370</td>\n",
       "      <td>100.0</td>\n",
       "      <td>None</td>\n",
       "      <td>1</td>\n",
       "      <td>11.902500</td>\n",
       "      <td>None</td>\n",
       "      <td>3</td>\n",
       "      <td>ol</td>\n",
       "      <td>101.171250</td>\n",
       "    </tr>\n",
       "  </tbody>\n",
       "</table>\n",
       "</div>"
      ],
      "text/plain": [
       "   c_nf_per_km   df  from_bus  g_us_per_km  in_service  length_km  max_i_ka  \\\n",
       "0     0.000000  1.0         0          0.0        True        1.0  0.418370   \n",
       "1   352.117636  1.0         3          0.0        True        1.0  0.418370   \n",
       "2   797.836164  1.0         4          0.0        True        1.0  0.251022   \n",
       "3     0.000000  1.0         2          0.0        True        1.0  0.502044   \n",
       "4   465.775861  1.0         5          0.0        True        1.0  0.251022   \n",
       "5   332.060303  1.0         6          0.0        True        1.0  0.418370   \n",
       "6     0.000000  1.0         7          0.0        True        1.0  0.418370   \n",
       "7   681.949347  1.0         7          0.0        True        1.0  0.418370   \n",
       "8   392.232304  1.0         8          0.0        True        1.0  0.418370   \n",
       "\n",
       "   max_loading_percent  name  parallel  r_ohm_per_km std_type  to_bus type  \\\n",
       "0                100.0  None         1      0.000000     None       3   ol   \n",
       "1                100.0  None         1     20.234250     None       4   ol   \n",
       "2                100.0  None         1     46.419750     None       5   ol   \n",
       "3                100.0  None         1      0.000000     None       5   ol   \n",
       "4                100.0  None         1     14.163975     None       6   ol   \n",
       "5                100.0  None         1     10.117125     None       7   ol   \n",
       "6                100.0  None         1      0.000000     None       1   ol   \n",
       "7                100.0  None         1     38.088000     None       8   ol   \n",
       "8                100.0  None         1     11.902500     None       3   ol   \n",
       "\n",
       "   x_ohm_per_km  \n",
       "0     68.558400  \n",
       "1    109.503000  \n",
       "2    202.342500  \n",
       "3     69.748650  \n",
       "4    119.977200  \n",
       "5     85.698000  \n",
       "6     74.390625  \n",
       "7    191.630250  \n",
       "8    101.171250  "
      ]
     },
     "execution_count": 925,
     "metadata": {},
     "output_type": "execute_result"
    }
   ],
   "source": [
    "net.line # show line table"
   ]
  },
  {
   "cell_type": "markdown",
   "metadata": {},
   "source": [
    "## Accessing and Setting Parameters with pandas\n",
    "\n",
    "All data in pandapower is stored in pandas dataframes, which is why all functionalities that are implemented in pandas (http://pandas.pydata.org/) can be used with pandapower. pandas is a very powerful and widely used tool for data analysis. You can accesss all parameters of one element with the .loc command:"
   ]
  },
  {
   "cell_type": "code",
   "execution_count": 926,
   "metadata": {},
   "outputs": [
    {
     "data": {
      "text/plain": [
       "c_nf_per_km             465.776\n",
       "df                            1\n",
       "from_bus                      5\n",
       "g_us_per_km                   0\n",
       "in_service                 True\n",
       "length_km                     1\n",
       "max_i_ka               0.251022\n",
       "max_loading_percent         100\n",
       "name                       None\n",
       "parallel                      1\n",
       "r_ohm_per_km             14.164\n",
       "std_type                   None\n",
       "to_bus                        6\n",
       "type                         ol\n",
       "x_ohm_per_km            119.977\n",
       "Name: 4, dtype: object"
      ]
     },
     "execution_count": 926,
     "metadata": {},
     "output_type": "execute_result"
    }
   ],
   "source": [
    "#Detailed information about line 4\n",
    "net.line.loc[4]"
   ]
  },
  {
   "cell_type": "markdown",
   "metadata": {},
   "source": [
    "Multiple parameters of multiple elements are returned as a pandas dataframe:"
   ]
  },
  {
   "cell_type": "code",
   "execution_count": 927,
   "metadata": {},
   "outputs": [
    {
     "data": {
      "text/html": [
       "<div>\n",
       "<style scoped>\n",
       "    .dataframe tbody tr th:only-of-type {\n",
       "        vertical-align: middle;\n",
       "    }\n",
       "\n",
       "    .dataframe tbody tr th {\n",
       "        vertical-align: top;\n",
       "    }\n",
       "\n",
       "    .dataframe thead th {\n",
       "        text-align: right;\n",
       "    }\n",
       "</style>\n",
       "<table border=\"1\" class=\"dataframe\">\n",
       "  <thead>\n",
       "    <tr style=\"text-align: right;\">\n",
       "      <th></th>\n",
       "      <th>length_km</th>\n",
       "      <th>r_ohm_per_km</th>\n",
       "      <th>x_ohm_per_km</th>\n",
       "      <th>c_nf_per_km</th>\n",
       "    </tr>\n",
       "  </thead>\n",
       "  <tbody>\n",
       "    <tr>\n",
       "      <th>3</th>\n",
       "      <td>1.0</td>\n",
       "      <td>0.000000</td>\n",
       "      <td>69.74865</td>\n",
       "      <td>0.000000</td>\n",
       "    </tr>\n",
       "    <tr>\n",
       "      <th>4</th>\n",
       "      <td>1.0</td>\n",
       "      <td>14.163975</td>\n",
       "      <td>119.97720</td>\n",
       "      <td>465.775861</td>\n",
       "    </tr>\n",
       "  </tbody>\n",
       "</table>\n",
       "</div>"
      ],
      "text/plain": [
       "   length_km  r_ohm_per_km  x_ohm_per_km  c_nf_per_km\n",
       "3        1.0      0.000000      69.74865     0.000000\n",
       "4        1.0     14.163975     119.97720   465.775861"
      ]
     },
     "execution_count": 927,
     "metadata": {},
     "output_type": "execute_result"
    }
   ],
   "source": [
    "#Length and type information about line 3 and 4                               \n",
    "net.line.loc[[3,4], [\"length_km\", \"r_ohm_per_km\", \"x_ohm_per_km\", \"c_nf_per_km\"]]"
   ]
  },
  {
   "cell_type": "markdown",
   "metadata": {},
   "source": [
    "Querying Dataframes: If you need to select elements with specific characteristics, you can doso with boolean masks. For example, if you want to select all lines with rated current less than 0.4 kA:"
   ]
  },
  {
   "cell_type": "code",
   "execution_count": 928,
   "metadata": {},
   "outputs": [
    {
     "data": {
      "text/html": [
       "<div>\n",
       "<style scoped>\n",
       "    .dataframe tbody tr th:only-of-type {\n",
       "        vertical-align: middle;\n",
       "    }\n",
       "\n",
       "    .dataframe tbody tr th {\n",
       "        vertical-align: top;\n",
       "    }\n",
       "\n",
       "    .dataframe thead th {\n",
       "        text-align: right;\n",
       "    }\n",
       "</style>\n",
       "<table border=\"1\" class=\"dataframe\">\n",
       "  <thead>\n",
       "    <tr style=\"text-align: right;\">\n",
       "      <th></th>\n",
       "      <th>from_bus</th>\n",
       "      <th>to_bus</th>\n",
       "      <th>r_ohm_per_km</th>\n",
       "      <th>x_ohm_per_km</th>\n",
       "    </tr>\n",
       "  </thead>\n",
       "  <tbody>\n",
       "    <tr>\n",
       "      <th>2</th>\n",
       "      <td>4</td>\n",
       "      <td>5</td>\n",
       "      <td>46.419750</td>\n",
       "      <td>202.3425</td>\n",
       "    </tr>\n",
       "    <tr>\n",
       "      <th>4</th>\n",
       "      <td>5</td>\n",
       "      <td>6</td>\n",
       "      <td>14.163975</td>\n",
       "      <td>119.9772</td>\n",
       "    </tr>\n",
       "  </tbody>\n",
       "</table>\n",
       "</div>"
      ],
      "text/plain": [
       "   from_bus  to_bus  r_ohm_per_km  x_ohm_per_km\n",
       "2         4       5     46.419750      202.3425\n",
       "4         5       6     14.163975      119.9772"
      ]
     },
     "execution_count": 928,
     "metadata": {},
     "output_type": "execute_result"
    }
   ],
   "source": [
    "light_duty_lines = net.line[net.line.max_i_ka < 0.4]\n",
    "#Output\n",
    "light_duty_lines[[\"from_bus\", \"to_bus\", \"r_ohm_per_km\", \"x_ohm_per_km\"]]"
   ]
  },
  {
   "cell_type": "markdown",
   "metadata": {},
   "source": [
    "For more information about data handling, see this tutorial: https://github.com/e2nIEE/pandapower/blob/master/tutorials/data_analysis.ipynb"
   ]
  },
  {
   "cell_type": "markdown",
   "metadata": {},
   "source": [
    "# Plotting a network\n",
    "\n",
    "Buses in pandapower can be optionally defined with x/y geo co-ordinates, see documentation: https://pandapower.readthedocs.io/en/develop/elements/bus.html\n",
    "<br>Same applies for lines"
   ]
  },
  {
   "cell_type": "code",
   "execution_count": 929,
   "metadata": {},
   "outputs": [
    {
     "data": {
      "text/html": [
       "<div>\n",
       "<style scoped>\n",
       "    .dataframe tbody tr th:only-of-type {\n",
       "        vertical-align: middle;\n",
       "    }\n",
       "\n",
       "    .dataframe tbody tr th {\n",
       "        vertical-align: top;\n",
       "    }\n",
       "\n",
       "    .dataframe thead th {\n",
       "        text-align: right;\n",
       "    }\n",
       "</style>\n",
       "<table border=\"1\" class=\"dataframe\">\n",
       "  <thead>\n",
       "    <tr style=\"text-align: right;\">\n",
       "      <th></th>\n",
       "      <th>x</th>\n",
       "      <th>y</th>\n",
       "      <th>coords</th>\n",
       "    </tr>\n",
       "  </thead>\n",
       "  <tbody>\n",
       "    <tr>\n",
       "      <th>0</th>\n",
       "      <td>-2.913407</td>\n",
       "      <td>-0.643875</td>\n",
       "      <td>None</td>\n",
       "    </tr>\n",
       "    <tr>\n",
       "      <th>1</th>\n",
       "      <td>0.936991</td>\n",
       "      <td>-0.117367</td>\n",
       "      <td>None</td>\n",
       "    </tr>\n",
       "    <tr>\n",
       "      <th>2</th>\n",
       "      <td>-1.451821</td>\n",
       "      <td>2.940568</td>\n",
       "      <td>None</td>\n",
       "    </tr>\n",
       "    <tr>\n",
       "      <th>3</th>\n",
       "      <td>-2.054941</td>\n",
       "      <td>0.009793</td>\n",
       "      <td>None</td>\n",
       "    </tr>\n",
       "    <tr>\n",
       "      <th>4</th>\n",
       "      <td>-2.178906</td>\n",
       "      <td>1.148920</td>\n",
       "      <td>None</td>\n",
       "    </tr>\n",
       "    <tr>\n",
       "      <th>5</th>\n",
       "      <td>-1.294398</td>\n",
       "      <td>1.871889</td>\n",
       "      <td>None</td>\n",
       "    </tr>\n",
       "    <tr>\n",
       "      <th>6</th>\n",
       "      <td>-0.243500</td>\n",
       "      <td>1.416604</td>\n",
       "      <td>None</td>\n",
       "    </tr>\n",
       "    <tr>\n",
       "      <th>7</th>\n",
       "      <td>-0.063903</td>\n",
       "      <td>0.285821</td>\n",
       "      <td>None</td>\n",
       "    </tr>\n",
       "    <tr>\n",
       "      <th>8</th>\n",
       "      <td>-0.983023</td>\n",
       "      <td>-0.394095</td>\n",
       "      <td>None</td>\n",
       "    </tr>\n",
       "  </tbody>\n",
       "</table>\n",
       "</div>"
      ],
      "text/plain": [
       "          x         y coords\n",
       "0 -2.913407 -0.643875   None\n",
       "1  0.936991 -0.117367   None\n",
       "2 -1.451821  2.940568   None\n",
       "3 -2.054941  0.009793   None\n",
       "4 -2.178906  1.148920   None\n",
       "5 -1.294398  1.871889   None\n",
       "6 -0.243500  1.416604   None\n",
       "7 -0.063903  0.285821   None\n",
       "8 -0.983023 -0.394095   None"
      ]
     },
     "execution_count": 929,
     "metadata": {},
     "output_type": "execute_result"
    }
   ],
   "source": [
    "net.bus_geodata"
   ]
  },
  {
   "cell_type": "markdown",
   "metadata": {},
   "source": [
    "Pandapower uses matplotlib to plot buses and lines in the network. The plotting module provides several functions that create collections from pandapower networks."
   ]
  },
  {
   "cell_type": "code",
   "execution_count": 930,
   "metadata": {},
   "outputs": [
    {
     "data": {
      "image/png": "[encoded data removed]",
      "text/plain": [
       "<Figure size 720x576 with 1 Axes>"
      ]
     },
     "metadata": {},
     "output_type": "display_data"
    },
    {
     "data": {
      "text/plain": [
       "<AxesSubplot:>"
      ]
     },
     "execution_count": 930,
     "metadata": {},
     "output_type": "execute_result"
    }
   ],
   "source": [
    "import pandapower.plotting as plot\n",
    "# simple plot of net with existing geocoordinates\n",
    "plot.simple_plot(net, show_plot=True)"
   ]
  },
  {
   "cell_type": "markdown",
   "metadata": {},
   "source": [
    "For more information visit the basic plotting tutorial: https://github.com/e2nIEE/pandapower/blob/master/tutorials/plotting_basic.ipynb"
   ]
  },
  {
   "cell_type": "markdown",
   "metadata": {},
   "source": [
    "# Running power flow\n",
    "\n",
    "Runing a loadflow adds seperate result table with the prefix 'res_':"
   ]
  },
  {
   "cell_type": "code",
   "execution_count": 931,
   "metadata": {},
   "outputs": [
    {
     "data": {
      "text/plain": [
       "This pandapower network includes the following parameter tables:\n",
       "   - bus (9 elements)\n",
       "   - load (3 elements)\n",
       "   - gen (2 elements)\n",
       "   - ext_grid (1 element)\n",
       "   - line (9 elements)\n",
       "   - poly_cost (3 elements)\n",
       "   - bus_geodata (9 elements)\n",
       " and the following results tables:\n",
       "   - res_bus (9 elements)\n",
       "   - res_line (9 elements)\n",
       "   - res_ext_grid (1 element)\n",
       "   - res_load (3 elements)\n",
       "   - res_gen (2 elements)"
      ]
     },
     "execution_count": 931,
     "metadata": {},
     "output_type": "execute_result"
    }
   ],
   "source": [
    "pp.runpp(net)\n",
    "net"
   ]
  },
  {
   "cell_type": "markdown",
   "metadata": {},
   "source": [
    "After running a power flow the results are written in the results tables of the elements (buses, lines etc.) and can be processed using the panda functions as discussed above. Visit the power flow tutorial for more insight: https://github.com/e2nIEE/pandapower/blob/master/tutorials/powerflow.ipynb"
   ]
  },
  {
   "cell_type": "markdown",
   "metadata": {},
   "source": [
    "## Power Flow Performance\n",
    "\n",
    "Pandapower does not have its own power flow algorithm, but rather uses pypower, a python version of Matpower, in the background. When a power flow is run, pandapower combines the information of all element tables into one pypower case file and uses pypower to run the power flow. The results are then processed and written back into pandapower.\n",
    "\n",
    "The first time a pypower case is created requires a lot of time, but after that changing individual parameters and running the power flow is much faster. Use the following code snipset to calculate the time needed."
   ]
  },
  {
   "cell_type": "code",
   "execution_count": 932,
   "metadata": {},
   "outputs": [
    {
     "name": "stdout",
     "output_type": "stream",
     "text": [
      "Elapsed time: 14.9598 ms\n"
     ]
    }
   ],
   "source": [
    "import time\n",
    "start_time = time.time()\n",
    "pp.runpp(net)\n",
    "print(\"Elapsed time: {:2.4f} ms\".format(1000*(time.time() - start_time)))"
   ]
  },
  {
   "cell_type": "markdown",
   "metadata": {},
   "source": [
    "Now take line 5 of service (in_service=False) and repeat the calculation."
   ]
  },
  {
   "cell_type": "code",
   "execution_count": null,
   "metadata": {},
   "outputs": [],
   "source": []
  },
  {
   "cell_type": "markdown",
   "metadata": {},
   "source": [
    "Investigate how the different options for the power flow perform in terms of time:\n",
    "* DC power flow\n",
    "* Gauss-Seidel\n",
    "* Newton-Raphson (default)\n",
    "* fast decoupled NR"
   ]
  },
  {
   "cell_type": "code",
   "execution_count": null,
   "metadata": {},
   "outputs": [],
   "source": []
  },
  {
   "cell_type": "markdown",
   "metadata": {},
   "source": [
    "If you have experience with python, try to plot the execution time over the required convergence threshold (vary the tolerance_mva between 1.e-5 and 1.e-9). Is there any dependency? For which algorithm?"
   ]
  },
  {
   "cell_type": "code",
   "execution_count": null,
   "metadata": {},
   "outputs": [],
   "source": []
  },
  {
   "cell_type": "markdown",
   "metadata": {},
   "source": [
    "## Performance analysis for larger networks\n",
    "\n",
    "Now use following larger networks to analyze the performance of the different power flow algorithms:\n",
    "* case_ieee30()\n",
    "* case118()\n",
    "* case300() - do not use gs\n",
    "* case3120sp() - do not use gs\n",
    "How does the performance scale with network size?"
   ]
  },
  {
   "cell_type": "code",
   "execution_count": null,
   "metadata": {},
   "outputs": [],
   "source": []
  }
 ],
 "metadata": {
  "kernelspec": {
   "display_name": "Python 3 (ipykernel)",
   "language": "python",
   "name": "python3"
  },
  "language_info": {
   "codemirror_mode": {
    "name": "ipython",
    "version": 3
   },
   "file_extension": ".py",
   "mimetype": "text/x-python",
   "name": "python",
   "nbconvert_exporter": "python",
   "pygments_lexer": "ipython3",
   "version": "3.8.5"
  }
 },
 "nbformat": 4,
 "nbformat_minor": 4
}
